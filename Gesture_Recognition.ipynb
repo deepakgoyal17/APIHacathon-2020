{
  "cells": [
    {
      "cell_type": "markdown",
      "metadata": {
        "id": "view-in-github",
        "colab_type": "text"
      },
      "source": [
        "<a href=\"https://colab.research.google.com/github/deepakgoyal17/APIHacathon-2020/blob/master/Gesture_Recognition.ipynb\" target=\"_parent\"><img src=\"https://colab.research.google.com/assets/colab-badge.svg\" alt=\"Open In Colab\"/></a>"
      ]
    },
    {
      "cell_type": "code",
      "execution_count": 30,
      "metadata": {
        "id": "5I1kZtYta132"
      },
      "outputs": [],
      "source": [
        "import numpy as np\n",
        "import os\n",
        "import datetime\n",
        "import os\n",
        "from imageio import imread\n",
        "import cv2"
      ]
    },
    {
      "cell_type": "code",
      "execution_count": 31,
      "metadata": {
        "id": "bUSxGX2Xa7q1"
      },
      "outputs": [],
      "source": [
        "np.random.seed(30)\n",
        "import random as rn\n",
        "rn.seed(30)\n",
        "from keras import backend as K\n",
        "import tensorflow as tf\n",
        "tf.random.set_seed(30)"
      ]
    },
    {
      "cell_type": "code",
      "execution_count": 32,
      "metadata": {
        "colab": {
          "base_uri": "https://localhost:8080/"
        },
        "id": "JVChh4vsct6E",
        "outputId": "9dcdd2d0-e141-40db-e7f2-a2c8d407d633"
      },
      "outputs": [
        {
          "output_type": "stream",
          "name": "stdout",
          "text": [
            "Drive already mounted at /content/drive; to attempt to forcibly remount, call drive.mount(\"/content/drive\", force_remount=True).\n"
          ]
        }
      ],
      "source": [
        "from google.colab import drive\n",
        "import zipfile\n",
        "drive.mount('/content/drive')\n",
        "zip_ref = zipfile.ZipFile(\"/content/drive/MyDrive/Project_data.zip\", 'r')\n",
        "zip_ref.extractall(\"/content/data/tmp\")\n",
        "zip_ref.close()"
      ]
    },
    {
      "cell_type": "markdown",
      "metadata": {
        "id": "l7GJqYV-5WH0"
      },
      "source": [
        "In this block, you read the folder names for training and validation. You also set the batch_size here. Note that you set the batch size in such a way that you are able to use the GPU in full capacity. You keep increasing the batch size until the machine throws an error."
      ]
    },
    {
      "cell_type": "code",
      "execution_count": 33,
      "metadata": {
        "id": "t9SPX-MH5au8"
      },
      "outputs": [],
      "source": [
        "train_doc = np.random.permutation(open('/content/data/tmp/Project_data/train.csv').readlines())\n",
        "val_doc = np.random.permutation(open('/content/data/tmp/Project_data/val.csv').readlines())\n",
        "batch_size = 64"
      ]
    },
    {
      "cell_type": "markdown",
      "metadata": {
        "id": "ba7J6hZ35onC"
      },
      "source": [
        "Generator\n",
        "\n",
        "This is one of the most important part of the code. The overall structure of the generator has been given. In the generator, you are going to preprocess the images as you have images of 2 different dimensions as well as create a batch of video frames. You have to experiment with img_idx, y,z and normalization such that you get high accuracy."
      ]
    },
    {
      "cell_type": "code",
      "execution_count": 34,
      "metadata": {
        "id": "AfCiUKx45vU2"
      },
      "outputs": [],
      "source": [
        "def generator(source_path, folder_list, batch_size):\n",
        "    print( 'Source path = ', source_path, '; batch size =', batch_size)\n",
        "    img_idx = [0,1,2,4,6,8,10,12,14,16,18,20,22,24,26,27,28,29]\n",
        "    while True:\n",
        "        t = np.random.permutation(folder_list)\n",
        "        num_batches = int(len(t)/batch_size)\n",
        "        for batch in range(num_batches):\n",
        "            batch_data = np.zeros((batch_size,18,84,84,3))\n",
        "            batch_labels = np.zeros((batch_size,5))\n",
        "            for folder in range(batch_size):\n",
        "                imgs = os.listdir(source_path+'/'+ t[folder + (batch*batch_size)].split(';')[0])\n",
        "                for idx,item in enumerate(img_idx):\n",
        "                    image = imread(source_path+'/'+ t[folder + (batch*batch_size)].strip().split(';')[0]+'/'+imgs[item]).astype(np.float32)\n",
        "                    if image.shape[1] == 160:\n",
        "                        image = cv2.resize(image[:,20:140,:],(84,84)).astype(np.float32)\n",
        "                    else:\n",
        "                        image = cv2.resize(image,(84,84)).astype(np.float32)\n",
        "                    \n",
        "                    batch_data[folder,idx,:,:,0] = image[:,:,0] - 104\n",
        "                    batch_data[folder,idx,:,:,1] = image[:,:,1] - 117\n",
        "                    batch_data[folder,idx,:,:,2] = image[:,:,2] - 123\n",
        "                    \n",
        "                batch_labels[folder, int(t[folder + (batch*batch_size)].strip().split(';')[2])] = 1\n",
        "            yield batch_data, batch_labels\n",
        "\n",
        "        if (len(t)%batch_size) != 0:\n",
        "            batch_data = np.zeros((len(t)%batch_size,18,84,84,3))\n",
        "            batch_labels = np.zeros((len(t)%batch_size,5))\n",
        "            for folder in range(len(t)%batch_size):\n",
        "                imgs = os.listdir(source_path+'/'+ t[folder + (num_batches*batch_size)].split(';')[0])\n",
        "                for idx,item in enumerate(img_idx):\n",
        "                    image = imread(source_path+'/'+ t[folder + (num_batches*batch_size)].strip().split(';')[0]+'/'+imgs[item]).astype(np.float32)\n",
        "                    if image.shape[1] == 160:\n",
        "                        image = cv2.resize(image[:,20:140,:],(84,84)).astype(np.float32)\n",
        "                    else:\n",
        "                        image = cv2.resize(image,(84,84)).astype(np.float32)\n",
        "\n",
        "                    batch_data[folder,idx,:,:,0] = image[:,:,0] - 104\n",
        "                    batch_data[folder,idx,:,:,1] = image[:,:,1] - 117\n",
        "                    batch_data[folder,idx,:,:,2] = image[:,:,2] - 123\n",
        "\n",
        "                batch_labels[folder, int(t[folder + (num_batches*batch_size)].strip().split(';')[2])] = 1\n",
        "\n",
        "            yield batch_data, batch_labels"
      ]
    },
    {
      "cell_type": "markdown",
      "metadata": {
        "id": "eZqRA9uP6DTj"
      },
      "source": [
        "Note here that a video is represented above in the generator as (number of images, height, width, number of channels). Take this into consideration while creating the model architecture."
      ]
    },
    {
      "cell_type": "code",
      "execution_count": 35,
      "metadata": {
        "colab": {
          "base_uri": "https://localhost:8080/"
        },
        "id": "PIjehavD5_mv",
        "outputId": "bd33ec17-c110-4656-89d4-94f0627e210f"
      },
      "outputs": [
        {
          "output_type": "stream",
          "name": "stdout",
          "text": [
            "# training sequences = 663\n",
            "# validation sequences = 100\n",
            "# epochs = 30\n"
          ]
        }
      ],
      "source": [
        "curr_dt_time = datetime.datetime.now()\n",
        "train_path = '/content/data/tmp/Project_data/train'\n",
        "val_path = '/content/data/tmp/Project_data/val'\n",
        "num_train_sequences = len(train_doc)\n",
        "print('# training sequences =', num_train_sequences)\n",
        "num_val_sequences = len(val_doc)\n",
        "print('# validation sequences =', num_val_sequences)\n",
        "num_epochs = 30\n",
        "print ('# epochs =', num_epochs)"
      ]
    },
    {
      "cell_type": "markdown",
      "metadata": {
        "id": "hsy4Su3o6TQO"
      },
      "source": [
        "Model\n",
        "\n",
        "Here you make the model using different functionalities that Keras provides. Remember to use Conv3D and MaxPooling3D and not Conv2D and Maxpooling2D for a 3D convolution model. You would want to use TimeDistributed while building a Conv2D + RNN model. Also remember that the last layer is the softmax. Design the network in such a way that the model is able to give good accuracy on the least number of parameters so that it can fit in the memory of the webcam."
      ]
    },
    {
      "cell_type": "markdown",
      "metadata": {
        "id": "IWcJgY_F7Nym"
      },
      "source": [
        "Now that you have written the model, the next step is to compile the model. When you print the summary of the model, you'll see the total number of parameters you have to train."
      ]
    },
    {
      "cell_type": "markdown",
      "metadata": {
        "id": "8NaUaynX7Yiz"
      },
      "source": [
        "Let us create the train_generator and the val_generator which will be used in .fit_generator"
      ]
    },
    {
      "cell_type": "code",
      "execution_count": 36,
      "metadata": {
        "id": "Il8-Hilx7Q4P"
      },
      "outputs": [],
      "source": [
        "train_generator = generator(train_path, train_doc, batch_size)\n",
        "val_generator = generator(val_path, val_doc, batch_size)"
      ]
    },
    {
      "cell_type": "markdown",
      "metadata": {
        "id": "HjkmfpOc7khQ"
      },
      "source": [
        "The steps_per_epoch and validation_steps are used by fit_generator to decide the number of next() calls it need to make."
      ]
    },
    {
      "cell_type": "markdown",
      "metadata": {
        "id": "2fp3IdLB7rVW"
      },
      "source": [
        "Let us now fit the model. This will start training the model and with the help of the checkpoints, you'll be able to save the model at the end of each epoch."
      ]
    },
    {
      "cell_type": "code",
      "execution_count": 37,
      "metadata": {
        "id": "4eaD4nx47xP-"
      },
      "outputs": [],
      "source": [
        "# function to plot the training/validation accuracies/losses.\n",
        "import cv2\n",
        "import matplotlib.pyplot as plt\n",
        "def plot(history):\n",
        "    fig, axes = plt.subplots(nrows=1, ncols=2, figsize=(15,4))\n",
        "    axes[0].plot(history.history['loss'])   \n",
        "    axes[0].plot(history.history['val_loss'])\n",
        "    axes[0].legend(['loss','val_loss'])\n",
        "\n",
        "    axes[1].plot(history.history['categorical_accuracy'])   \n",
        "    axes[1].plot(history.history['val_categorical_accuracy'])\n",
        "    axes[1].legend(['categorical_accuracy','val_categorical_accuracy'])"
      ]
    },
    {
      "cell_type": "code",
      "source": [
        "def define_model1(filtersize=(2,2,2),dense_neurons=64,dropout=0.25):\n",
        "\n",
        "  model = Sequential()\n",
        "  model.add(Conv3D(64, filtersize, strides=(1,1,1), padding='same', input_shape=(18,84,84,3)))\n",
        "  model.add(BatchNormalization())\n",
        "  model.add(Activation('relu'))\n",
        "  model.add(MaxPooling3D(pool_size=(2,2,1), strides=(2,2,1)))\n",
        "\n",
        "  model.add(Conv3D(128, filtersize, strides=(1,1,1), padding='same'))\n",
        "  model.add(BatchNormalization())\n",
        "  model.add(Activation('relu'))\n",
        "  model.add(MaxPooling3D(pool_size=(2,2,2), strides=(2,2,2)))\n",
        "\n",
        "  model.add(Dropout(0.25))\n",
        "\n",
        "  model.add(Conv3D(256, filtersize, strides=(1,1,1), padding='same'))\n",
        "  model.add(BatchNormalization())\n",
        "  model.add(Activation('relu'))\n",
        "  model.add(MaxPooling3D(pool_size=(2,2,2), strides=(2,2,2)))\n",
        "\n",
        "  model.add(Dropout(0.25))\n",
        "\n",
        "  model.add(Conv3D(256, filtersize, strides=(1,1,1), padding='same'))\n",
        "  model.add(BatchNormalization())\n",
        "  model.add(Activation('relu'))\n",
        "  model.add(MaxPooling3D(pool_size=(2,2,2), strides=(2,2,2)))\n",
        "\n",
        "  model.add(Flatten())\n",
        "  model.add(Dropout(0.5))\n",
        "  model.add(Dense(512, activation='relu'))\n",
        "  model.add(Dropout(0.5))\n",
        "  model.add(Dense(5, activation='softmax'))\n",
        "  return model"
      ],
      "metadata": {
        "id": "BHhQoYqCjJiX"
      },
      "execution_count": 38,
      "outputs": []
    },
    {
      "cell_type": "code",
      "source": [
        "def train_model( model):\n",
        "        train_generator = generator(train_path, train_doc,batch_size)\n",
        "        val_generator = generator(val_path, val_doc,batch_size)\n",
        "\n",
        "        model_name = 'model_init' + '_' + str(datetime.datetime.now()).replace(' ','').replace(':','_') + '/'\n",
        "    \n",
        "        if not os.path.exists(model_name):\n",
        "            os.mkdir(model_name)\n",
        "        \n",
        "        filepath = model_name + 'model-{epoch:05d}-{loss:.5f}-{categorical_accuracy:.5f}-{val_loss:.5f}-{val_categorical_accuracy:.5f}.h5'\n",
        "\n",
        "        checkpoint = ModelCheckpoint(filepath, monitor='val_loss', verbose=1, save_best_only=True, save_weights_only=False, mode='auto', period=1)\n",
        "        LR = ReduceLROnPlateau(monitor='val_loss', factor=0.2, verbose=1, patience=4)\n",
        "        \n",
        "        callbacks_list = [checkpoint, LR]\n",
        "        #callbacks_list = [checkpoint, LR, earlystop]\n",
        "        if (num_train_sequences%batch_size) == 0:\n",
        "            steps_per_epoch = int(num_train_sequences/batch_size)\n",
        "        else:\n",
        "            steps_per_epoch = (num_train_sequences//batch_size) + 1\n",
        "\n",
        "        if (num_val_sequences%batch_size) == 0:\n",
        "            validation_steps = int(num_val_sequences/batch_size)\n",
        "        else:\n",
        "            validation_steps = (num_val_sequences//batch_size) + 1\n",
        "    \n",
        "        history=model.fit_generator(train_generator, steps_per_epoch=steps_per_epoch, epochs=num_epochs, verbose=1,\n",
        "                            callbacks=callbacks_list, validation_data=val_generator,\n",
        "                            validation_steps=validation_steps, class_weight=None, workers=1, initial_epoch=0)\n",
        "        return history"
      ],
      "metadata": {
        "id": "ZYw-5ZLngGRq"
      },
      "execution_count": 39,
      "outputs": []
    },
    {
      "cell_type": "code",
      "source": [
        "batch_size = 10\n",
        "num_epochs = 5"
      ],
      "metadata": {
        "id": "NAmW_GPujTjr"
      },
      "execution_count": 40,
      "outputs": []
    },
    {
      "cell_type": "code",
      "source": [
        "model = define_model1()\n",
        "optimiser = optimizers.SGD(lr=0.002, decay=1e-6, momentum=0.7, nesterov=True)\n",
        "model.compile(optimizer=optimiser, loss='categorical_crossentropy', metrics=['categorical_accuracy'])\n",
        "print (model.summary())"
      ],
      "metadata": {
        "colab": {
          "base_uri": "https://localhost:8080/"
        },
        "id": "5LGy6hLTjVS_",
        "outputId": "cea6636e-3b2d-4e59-fc0b-a03a2d9e5e8f"
      },
      "execution_count": 41,
      "outputs": [
        {
          "output_type": "stream",
          "name": "stdout",
          "text": [
            "Model: \"sequential_3\"\n",
            "_________________________________________________________________\n",
            " Layer (type)                Output Shape              Param #   \n",
            "=================================================================\n",
            " conv3d_12 (Conv3D)          (None, 18, 84, 84, 64)    1600      \n",
            "                                                                 \n",
            " batch_normalization_12 (Bat  (None, 18, 84, 84, 64)   256       \n",
            " chNormalization)                                                \n",
            "                                                                 \n",
            " activation_12 (Activation)  (None, 18, 84, 84, 64)    0         \n",
            "                                                                 \n",
            " max_pooling3d_12 (MaxPoolin  (None, 9, 42, 84, 64)    0         \n",
            " g3D)                                                            \n",
            "                                                                 \n",
            " conv3d_13 (Conv3D)          (None, 9, 42, 84, 128)    65664     \n",
            "                                                                 \n",
            " batch_normalization_13 (Bat  (None, 9, 42, 84, 128)   512       \n",
            " chNormalization)                                                \n",
            "                                                                 \n",
            " activation_13 (Activation)  (None, 9, 42, 84, 128)    0         \n",
            "                                                                 \n",
            " max_pooling3d_13 (MaxPoolin  (None, 4, 21, 42, 128)   0         \n",
            " g3D)                                                            \n",
            "                                                                 \n",
            " dropout_6 (Dropout)         (None, 4, 21, 42, 128)    0         \n",
            "                                                                 \n",
            " conv3d_14 (Conv3D)          (None, 4, 21, 42, 256)    262400    \n",
            "                                                                 \n",
            " batch_normalization_14 (Bat  (None, 4, 21, 42, 256)   1024      \n",
            " chNormalization)                                                \n",
            "                                                                 \n",
            " activation_14 (Activation)  (None, 4, 21, 42, 256)    0         \n",
            "                                                                 \n",
            " max_pooling3d_14 (MaxPoolin  (None, 2, 10, 21, 256)   0         \n",
            " g3D)                                                            \n",
            "                                                                 \n",
            " dropout_7 (Dropout)         (None, 2, 10, 21, 256)    0         \n",
            "                                                                 \n",
            " conv3d_15 (Conv3D)          (None, 2, 10, 21, 256)    524544    \n",
            "                                                                 \n",
            " batch_normalization_15 (Bat  (None, 2, 10, 21, 256)   1024      \n",
            " chNormalization)                                                \n",
            "                                                                 \n",
            " activation_15 (Activation)  (None, 2, 10, 21, 256)    0         \n",
            "                                                                 \n",
            " max_pooling3d_15 (MaxPoolin  (None, 1, 5, 10, 256)    0         \n",
            " g3D)                                                            \n",
            "                                                                 \n",
            " flatten_3 (Flatten)         (None, 12800)             0         \n",
            "                                                                 \n",
            " dropout_8 (Dropout)         (None, 12800)             0         \n",
            "                                                                 \n",
            " dense_6 (Dense)             (None, 512)               6554112   \n",
            "                                                                 \n",
            " dropout_9 (Dropout)         (None, 512)               0         \n",
            "                                                                 \n",
            " dense_7 (Dense)             (None, 5)                 2565      \n",
            "                                                                 \n",
            "=================================================================\n",
            "Total params: 7,413,701\n",
            "Trainable params: 7,412,293\n",
            "Non-trainable params: 1,408\n",
            "_________________________________________________________________\n",
            "None\n"
          ]
        },
        {
          "output_type": "stream",
          "name": "stderr",
          "text": [
            "/usr/local/lib/python3.7/dist-packages/keras/optimizer_v2/gradient_descent.py:102: UserWarning: The `lr` argument is deprecated, use `learning_rate` instead.\n",
            "  super(SGD, self).__init__(name, **kwargs)\n"
          ]
        }
      ]
    },
    {
      "cell_type": "code",
      "source": [
        "history_model1 = train_model(model)"
      ],
      "metadata": {
        "colab": {
          "base_uri": "https://localhost:8080/"
        },
        "id": "0fO5A-kXjdTn",
        "outputId": "2be7415c-808e-4a73-bcaf-90100c9b6fa3"
      },
      "execution_count": 42,
      "outputs": [
        {
          "output_type": "stream",
          "name": "stderr",
          "text": [
            "WARNING:tensorflow:`period` argument is deprecated. Please use `save_freq` to specify the frequency in number of batches seen.\n",
            "/usr/local/lib/python3.7/dist-packages/ipykernel_launcher.py:29: UserWarning: `Model.fit_generator` is deprecated and will be removed in a future version. Please use `Model.fit`, which supports generators.\n"
          ]
        },
        {
          "output_type": "stream",
          "name": "stdout",
          "text": [
            "Source path =  /content/data/tmp/Project_data/train ; batch size = 10\n",
            "Epoch 1/5\n",
            "67/67 [==============================] - ETA: 0s - loss: 3.5143 - categorical_accuracy: 0.3092Source path =  /content/data/tmp/Project_data/val ; batch size = 10\n",
            "\n",
            "Epoch 1: val_loss improved from inf to 2.24579, saving model to model_init_2022-09-1216_37_19.372187/model-00001-3.51427-0.30920-2.24579-0.29000.h5\n",
            "67/67 [==============================] - 45s 652ms/step - loss: 3.5143 - categorical_accuracy: 0.3092 - val_loss: 2.2458 - val_categorical_accuracy: 0.2900 - lr: 0.0020\n",
            "Epoch 2/5\n",
            "67/67 [==============================] - ETA: 0s - loss: 1.4122 - categorical_accuracy: 0.3725\n",
            "Epoch 2: val_loss improved from 2.24579 to 1.29017, saving model to model_init_2022-09-1216_37_19.372187/model-00002-1.41216-0.37255-1.29017-0.47000.h5\n",
            "67/67 [==============================] - 41s 611ms/step - loss: 1.4122 - categorical_accuracy: 0.3725 - val_loss: 1.2902 - val_categorical_accuracy: 0.4700 - lr: 0.0020\n",
            "Epoch 3/5\n",
            "67/67 [==============================] - ETA: 0s - loss: 1.3863 - categorical_accuracy: 0.4087\n",
            "Epoch 3: val_loss improved from 1.29017 to 1.22737, saving model to model_init_2022-09-1216_37_19.372187/model-00003-1.38632-0.40875-1.22737-0.53000.h5\n",
            "67/67 [==============================] - 40s 603ms/step - loss: 1.3863 - categorical_accuracy: 0.4087 - val_loss: 1.2274 - val_categorical_accuracy: 0.5300 - lr: 0.0020\n",
            "Epoch 4/5\n",
            "67/67 [==============================] - ETA: 0s - loss: 1.3031 - categorical_accuracy: 0.4057\n",
            "Epoch 4: val_loss improved from 1.22737 to 1.13469, saving model to model_init_2022-09-1216_37_19.372187/model-00004-1.30307-0.40573-1.13469-0.57000.h5\n",
            "67/67 [==============================] - 39s 584ms/step - loss: 1.3031 - categorical_accuracy: 0.4057 - val_loss: 1.1347 - val_categorical_accuracy: 0.5700 - lr: 0.0020\n",
            "Epoch 5/5\n",
            "67/67 [==============================] - ETA: 0s - loss: 1.2273 - categorical_accuracy: 0.4389\n",
            "Epoch 5: val_loss did not improve from 1.13469\n",
            "67/67 [==============================] - 38s 568ms/step - loss: 1.2273 - categorical_accuracy: 0.4389 - val_loss: 1.2543 - val_categorical_accuracy: 0.4500 - lr: 0.0020\n"
          ]
        }
      ]
    },
    {
      "cell_type": "code",
      "source": [
        "plot(history_model1)"
      ],
      "metadata": {
        "colab": {
          "base_uri": "https://localhost:8080/",
          "height": 265
        },
        "id": "sP_iEGH8kIYb",
        "outputId": "1fa78c5c-ab65-4682-f938-5f2534dacca2"
      },
      "execution_count": 58,
      "outputs": [
        {
          "output_type": "display_data",
          "data": {
            "text/plain": [
              "<Figure size 1080x288 with 2 Axes>"
            ],
            "image/png": "[encoded data removed]"
          },
          "metadata": {
            "needs_background": "light"
          }
        }
      ]
    },
    {
      "cell_type": "markdown",
      "source": [
        "Changing Epochs and Batch Size and activation function"
      ],
      "metadata": {
        "id": "Kn5Xou40jmLw"
      }
    },
    {
      "cell_type": "code",
      "source": [
        "def define_model2(filtersize=(2,2,2),dense_neurons=64,dropout=0.25):\n",
        "\n",
        "  model = Sequential()\n",
        "  model.add(Conv3D(64, filtersize, strides=(1,1,1), padding='same', input_shape=(18,84,84,3)))\n",
        "  model.add(BatchNormalization())\n",
        "  model.add(Activation('elu'))\n",
        "  model.add(MaxPooling3D(pool_size=(2,2,1), strides=(2,2,1)))\n",
        "\n",
        "  model.add(Conv3D(128, filtersize, strides=(1,1,1), padding='same'))\n",
        "  model.add(BatchNormalization())\n",
        "  model.add(Activation('elu'))\n",
        "  model.add(MaxPooling3D(pool_size=(2,2,2), strides=(2,2,2)))\n",
        "\n",
        "  # model.add(Dropout(0.25))\n",
        "\n",
        "  model.add(Conv3D(256, filtersize, strides=(1,1,1), padding='same'))\n",
        "  model.add(BatchNormalization())\n",
        "  model.add(Activation('elu'))\n",
        "  model.add(MaxPooling3D(pool_size=(2,2,2), strides=(2,2,2)))\n",
        "\n",
        "  # model.add(Dropout(0.25))\n",
        "\n",
        "  model.add(Conv3D(256, filtersize, strides=(1,1,1), padding='same'))\n",
        "  model.add(BatchNormalization())\n",
        "  model.add(Activation('elu'))\n",
        "  model.add(MaxPooling3D(pool_size=(2,2,2), strides=(2,2,2)))\n",
        "\n",
        "  model.add(Flatten())\n",
        "  model.add(Dropout(0.5))\n",
        "  model.add(Dense(512, activation='elu'))\n",
        "  model.add(Dropout(0.5))\n",
        "  model.add(Dense(5, activation='softmax'))\n",
        "  return model"
      ],
      "metadata": {
        "id": "V-uLkA1CfQiD"
      },
      "execution_count": 43,
      "outputs": []
    },
    {
      "cell_type": "code",
      "source": [
        "batch_size = 20\n",
        "num_epochs = 10"
      ],
      "metadata": {
        "id": "IZ6IXxEShcFr"
      },
      "execution_count": 44,
      "outputs": []
    },
    {
      "cell_type": "code",
      "source": [
        "model = define_model2()\n",
        "optimiser = optimizers.SGD(lr=0.002, decay=1e-6, momentum=0.7, nesterov=True)\n",
        "model.compile(optimizer=optimiser, loss='categorical_crossentropy', metrics=['categorical_accuracy'])\n",
        "print (model.summary())\n"
      ],
      "metadata": {
        "colab": {
          "base_uri": "https://localhost:8080/"
        },
        "id": "spcbR312g_YO",
        "outputId": "f45815a3-772e-4ffe-837f-babfb291f48d"
      },
      "execution_count": 45,
      "outputs": [
        {
          "output_type": "stream",
          "name": "stdout",
          "text": [
            "Model: \"sequential_4\"\n",
            "_________________________________________________________________\n",
            " Layer (type)                Output Shape              Param #   \n",
            "=================================================================\n",
            " conv3d_16 (Conv3D)          (None, 18, 84, 84, 64)    1600      \n",
            "                                                                 \n",
            " batch_normalization_16 (Bat  (None, 18, 84, 84, 64)   256       \n",
            " chNormalization)                                                \n",
            "                                                                 \n",
            " activation_16 (Activation)  (None, 18, 84, 84, 64)    0         \n",
            "                                                                 \n",
            " max_pooling3d_16 (MaxPoolin  (None, 9, 42, 84, 64)    0         \n",
            " g3D)                                                            \n",
            "                                                                 \n",
            " conv3d_17 (Conv3D)          (None, 9, 42, 84, 128)    65664     \n",
            "                                                                 \n",
            " batch_normalization_17 (Bat  (None, 9, 42, 84, 128)   512       \n",
            " chNormalization)                                                \n",
            "                                                                 \n",
            " activation_17 (Activation)  (None, 9, 42, 84, 128)    0         \n",
            "                                                                 \n",
            " max_pooling3d_17 (MaxPoolin  (None, 4, 21, 42, 128)   0         \n",
            " g3D)                                                            \n",
            "                                                                 \n",
            " conv3d_18 (Conv3D)          (None, 4, 21, 42, 256)    262400    \n",
            "                                                                 \n",
            " batch_normalization_18 (Bat  (None, 4, 21, 42, 256)   1024      \n",
            " chNormalization)                                                \n",
            "                                                                 \n",
            " activation_18 (Activation)  (None, 4, 21, 42, 256)    0         \n",
            "                                                                 \n",
            " max_pooling3d_18 (MaxPoolin  (None, 2, 10, 21, 256)   0         \n",
            " g3D)                                                            \n",
            "                                                                 \n",
            " conv3d_19 (Conv3D)          (None, 2, 10, 21, 256)    524544    \n",
            "                                                                 \n",
            " batch_normalization_19 (Bat  (None, 2, 10, 21, 256)   1024      \n",
            " chNormalization)                                                \n",
            "                                                                 \n",
            " activation_19 (Activation)  (None, 2, 10, 21, 256)    0         \n",
            "                                                                 \n",
            " max_pooling3d_19 (MaxPoolin  (None, 1, 5, 10, 256)    0         \n",
            " g3D)                                                            \n",
            "                                                                 \n",
            " flatten_4 (Flatten)         (None, 12800)             0         \n",
            "                                                                 \n",
            " dropout_10 (Dropout)        (None, 12800)             0         \n",
            "                                                                 \n",
            " dense_8 (Dense)             (None, 512)               6554112   \n",
            "                                                                 \n",
            " dropout_11 (Dropout)        (None, 512)               0         \n",
            "                                                                 \n",
            " dense_9 (Dense)             (None, 5)                 2565      \n",
            "                                                                 \n",
            "=================================================================\n",
            "Total params: 7,413,701\n",
            "Trainable params: 7,412,293\n",
            "Non-trainable params: 1,408\n",
            "_________________________________________________________________\n",
            "None\n"
          ]
        }
      ]
    },
    {
      "cell_type": "code",
      "source": [
        "history_model2 = train_model(model)"
      ],
      "metadata": {
        "colab": {
          "base_uri": "https://localhost:8080/"
        },
        "id": "VtFKqTGngOa5",
        "outputId": "3aed583a-d27f-47ef-9f47-0fa2b6ee81e1"
      },
      "execution_count": 46,
      "outputs": [
        {
          "output_type": "stream",
          "name": "stderr",
          "text": [
            "WARNING:tensorflow:`period` argument is deprecated. Please use `save_freq` to specify the frequency in number of batches seen.\n"
          ]
        },
        {
          "output_type": "stream",
          "name": "stdout",
          "text": [
            "Source path =  /content/data/tmp/Project_data/train ; batch size = 20\n"
          ]
        },
        {
          "output_type": "stream",
          "name": "stderr",
          "text": [
            "/usr/local/lib/python3.7/dist-packages/ipykernel_launcher.py:29: UserWarning: `Model.fit_generator` is deprecated and will be removed in a future version. Please use `Model.fit`, which supports generators.\n"
          ]
        },
        {
          "output_type": "stream",
          "name": "stdout",
          "text": [
            "Epoch 1/10\n",
            "34/34 [==============================] - ETA: 0s - loss: 4.0304 - categorical_accuracy: 0.3469Source path =  /content/data/tmp/Project_data/val ; batch size = 20\n",
            "\n",
            "Epoch 1: val_loss improved from inf to 3.76653, saving model to model_init_2022-09-1216_40_42.637797/model-00001-4.03041-0.34691-3.76653-0.29000.h5\n",
            "34/34 [==============================] - 41s 1s/step - loss: 4.0304 - categorical_accuracy: 0.3469 - val_loss: 3.7665 - val_categorical_accuracy: 0.2900 - lr: 0.0020\n",
            "Epoch 2/10\n",
            "34/34 [==============================] - ETA: 0s - loss: 1.4175 - categorical_accuracy: 0.5385\n",
            "Epoch 2: val_loss improved from 3.76653 to 2.84023, saving model to model_init_2022-09-1216_40_42.637797/model-00002-1.41749-0.53846-2.84023-0.38000.h5\n",
            "34/34 [==============================] - 38s 1s/step - loss: 1.4175 - categorical_accuracy: 0.5385 - val_loss: 2.8402 - val_categorical_accuracy: 0.3800 - lr: 0.0020\n",
            "Epoch 3/10\n",
            "34/34 [==============================] - ETA: 0s - loss: 1.4368 - categorical_accuracy: 0.5370\n",
            "Epoch 3: val_loss improved from 2.84023 to 1.91591, saving model to model_init_2022-09-1216_40_42.637797/model-00003-1.43678-0.53695-1.91591-0.34000.h5\n",
            "34/34 [==============================] - 40s 1s/step - loss: 1.4368 - categorical_accuracy: 0.5370 - val_loss: 1.9159 - val_categorical_accuracy: 0.3400 - lr: 0.0020\n",
            "Epoch 4/10\n",
            "34/34 [==============================] - ETA: 0s - loss: 1.1537 - categorical_accuracy: 0.5747\n",
            "Epoch 4: val_loss improved from 1.91591 to 1.27418, saving model to model_init_2022-09-1216_40_42.637797/model-00004-1.15373-0.57466-1.27418-0.52000.h5\n",
            "34/34 [==============================] - 39s 1s/step - loss: 1.1537 - categorical_accuracy: 0.5747 - val_loss: 1.2742 - val_categorical_accuracy: 0.5200 - lr: 0.0020\n",
            "Epoch 5/10\n",
            "34/34 [==============================] - ETA: 0s - loss: 0.9565 - categorical_accuracy: 0.6561\n",
            "Epoch 5: val_loss improved from 1.27418 to 1.10502, saving model to model_init_2022-09-1216_40_42.637797/model-00005-0.95655-0.65611-1.10502-0.57000.h5\n",
            "34/34 [==============================] - 39s 1s/step - loss: 0.9565 - categorical_accuracy: 0.6561 - val_loss: 1.1050 - val_categorical_accuracy: 0.5700 - lr: 0.0020\n",
            "Epoch 6/10\n",
            "34/34 [==============================] - ETA: 0s - loss: 0.8828 - categorical_accuracy: 0.6787\n",
            "Epoch 6: val_loss did not improve from 1.10502\n",
            "34/34 [==============================] - 39s 1s/step - loss: 0.8828 - categorical_accuracy: 0.6787 - val_loss: 1.2740 - val_categorical_accuracy: 0.6200 - lr: 0.0020\n",
            "Epoch 7/10\n",
            "34/34 [==============================] - ETA: 0s - loss: 0.7842 - categorical_accuracy: 0.7285\n",
            "Epoch 7: val_loss did not improve from 1.10502\n",
            "34/34 [==============================] - 39s 1s/step - loss: 0.7842 - categorical_accuracy: 0.7285 - val_loss: 1.2300 - val_categorical_accuracy: 0.5500 - lr: 0.0020\n",
            "Epoch 8/10\n",
            "34/34 [==============================] - ETA: 0s - loss: 0.7786 - categorical_accuracy: 0.7134\n",
            "Epoch 8: val_loss improved from 1.10502 to 1.01635, saving model to model_init_2022-09-1216_40_42.637797/model-00008-0.77857-0.71342-1.01635-0.65000.h5\n",
            "34/34 [==============================] - 40s 1s/step - loss: 0.7786 - categorical_accuracy: 0.7134 - val_loss: 1.0164 - val_categorical_accuracy: 0.6500 - lr: 0.0020\n",
            "Epoch 9/10\n",
            "34/34 [==============================] - ETA: 0s - loss: 0.7281 - categorical_accuracy: 0.7285\n",
            "Epoch 9: val_loss improved from 1.01635 to 0.71591, saving model to model_init_2022-09-1216_40_42.637797/model-00009-0.72814-0.72851-0.71591-0.67000.h5\n",
            "34/34 [==============================] - 39s 1s/step - loss: 0.7281 - categorical_accuracy: 0.7285 - val_loss: 0.7159 - val_categorical_accuracy: 0.6700 - lr: 0.0020\n",
            "Epoch 10/10\n",
            "34/34 [==============================] - ETA: 0s - loss: 0.6077 - categorical_accuracy: 0.7798\n",
            "Epoch 10: val_loss improved from 0.71591 to 0.61943, saving model to model_init_2022-09-1216_40_42.637797/model-00010-0.60766-0.77979-0.61943-0.73000.h5\n",
            "34/34 [==============================] - 39s 1s/step - loss: 0.6077 - categorical_accuracy: 0.7798 - val_loss: 0.6194 - val_categorical_accuracy: 0.7300 - lr: 0.0020\n"
          ]
        }
      ]
    },
    {
      "cell_type": "code",
      "source": [
        "plot(history_model2)"
      ],
      "metadata": {
        "colab": {
          "base_uri": "https://localhost:8080/",
          "height": 268
        },
        "id": "rZnrZVI6hieG",
        "outputId": "058f8b59-1023-4e57-d852-2ab906ee8c5c"
      },
      "execution_count": 47,
      "outputs": [
        {
          "output_type": "display_data",
          "data": {
            "text/plain": [
              "<Figure size 1080x288 with 2 Axes>"
            ],
            "image/png": "[encoded data removed]"
          },
          "metadata": {
            "needs_background": "light"
          }
        }
      ]
    },
    {
      "cell_type": "code",
      "source": [
        "def define_model3(filtersize=(3,3,3),dense_neurons=64,dropout=0.25):\n",
        "\n",
        "  model = Sequential()\n",
        "  model.add(Conv3D(64, filtersize, strides=(1,1,1), padding='same', input_shape=(18,84,84,3)))\n",
        "  model.add(BatchNormalization())\n",
        "  model.add(Activation('elu'))\n",
        "  model.add(MaxPooling3D(pool_size=(2,2,1), strides=(2,2,1)))\n",
        "\n",
        "  model.add(Conv3D(128, filtersize, strides=(1,1,1), padding='same'))\n",
        "  model.add(BatchNormalization())\n",
        "  model.add(Activation('elu'))\n",
        "  model.add(MaxPooling3D(pool_size=(2,2,2), strides=(2,2,2)))\n",
        "\n",
        "  # model.add(Dropout(0.25))\n",
        "\n",
        "  model.add(Conv3D(256, filtersize, strides=(1,1,1), padding='same'))\n",
        "  model.add(BatchNormalization())\n",
        "  model.add(Activation('elu'))\n",
        "  model.add(MaxPooling3D(pool_size=(2,2,2), strides=(2,2,2)))\n",
        "\n",
        "  # model.add(Dropout(0.25))\n",
        "\n",
        "  model.add(Conv3D(256, filtersize, strides=(1,1,1), padding='same'))\n",
        "  model.add(BatchNormalization())\n",
        "  model.add(Activation('elu'))\n",
        "  model.add(MaxPooling3D(pool_size=(2,2,2), strides=(2,2,2)))\n",
        "\n",
        "  model.add(Flatten())\n",
        "  model.add(Dropout(0.5))\n",
        "  model.add(Dense(512, activation='elu'))\n",
        "  model.add(Dropout(0.5))\n",
        "  model.add(Dense(5, activation='softmax'))\n",
        "  return model"
      ],
      "metadata": {
        "id": "d7ROHEppiCfC"
      },
      "execution_count": 48,
      "outputs": []
    },
    {
      "cell_type": "code",
      "source": [
        "batch_size = 32\n",
        "num_epochs = 20"
      ],
      "metadata": {
        "id": "JQTQqe4HiU3r"
      },
      "execution_count": 49,
      "outputs": []
    },
    {
      "cell_type": "code",
      "source": [
        "model = define_model3()\n",
        "optimiser = optimizers.SGD(lr=0.002, decay=1e-6, momentum=0.7, nesterov=True)\n",
        "model.compile(optimizer=optimiser, loss='categorical_crossentropy', metrics=['categorical_accuracy'])\n",
        "print (model.summary())"
      ],
      "metadata": {
        "colab": {
          "base_uri": "https://localhost:8080/"
        },
        "id": "gyTuXaHniYL2",
        "outputId": "26d85403-10e7-45d9-9ced-a1e87142dd68"
      },
      "execution_count": 50,
      "outputs": [
        {
          "output_type": "stream",
          "name": "stdout",
          "text": [
            "Model: \"sequential_5\"\n",
            "_________________________________________________________________\n",
            " Layer (type)                Output Shape              Param #   \n",
            "=================================================================\n",
            " conv3d_20 (Conv3D)          (None, 18, 84, 84, 64)    5248      \n",
            "                                                                 \n",
            " batch_normalization_20 (Bat  (None, 18, 84, 84, 64)   256       \n",
            " chNormalization)                                                \n",
            "                                                                 \n",
            " activation_20 (Activation)  (None, 18, 84, 84, 64)    0         \n",
            "                                                                 \n",
            " max_pooling3d_20 (MaxPoolin  (None, 9, 42, 84, 64)    0         \n",
            " g3D)                                                            \n",
            "                                                                 \n",
            " conv3d_21 (Conv3D)          (None, 9, 42, 84, 128)    221312    \n",
            "                                                                 \n",
            " batch_normalization_21 (Bat  (None, 9, 42, 84, 128)   512       \n",
            " chNormalization)                                                \n",
            "                                                                 \n",
            " activation_21 (Activation)  (None, 9, 42, 84, 128)    0         \n",
            "                                                                 \n",
            " max_pooling3d_21 (MaxPoolin  (None, 4, 21, 42, 128)   0         \n",
            " g3D)                                                            \n",
            "                                                                 \n",
            " conv3d_22 (Conv3D)          (None, 4, 21, 42, 256)    884992    \n",
            "                                                                 \n",
            " batch_normalization_22 (Bat  (None, 4, 21, 42, 256)   1024      \n",
            " chNormalization)                                                \n",
            "                                                                 \n",
            " activation_22 (Activation)  (None, 4, 21, 42, 256)    0         \n",
            "                                                                 \n",
            " max_pooling3d_22 (MaxPoolin  (None, 2, 10, 21, 256)   0         \n",
            " g3D)                                                            \n",
            "                                                                 \n",
            " conv3d_23 (Conv3D)          (None, 2, 10, 21, 256)    1769728   \n",
            "                                                                 \n",
            " batch_normalization_23 (Bat  (None, 2, 10, 21, 256)   1024      \n",
            " chNormalization)                                                \n",
            "                                                                 \n",
            " activation_23 (Activation)  (None, 2, 10, 21, 256)    0         \n",
            "                                                                 \n",
            " max_pooling3d_23 (MaxPoolin  (None, 1, 5, 10, 256)    0         \n",
            " g3D)                                                            \n",
            "                                                                 \n",
            " flatten_5 (Flatten)         (None, 12800)             0         \n",
            "                                                                 \n",
            " dropout_12 (Dropout)        (None, 12800)             0         \n",
            "                                                                 \n",
            " dense_10 (Dense)            (None, 512)               6554112   \n",
            "                                                                 \n",
            " dropout_13 (Dropout)        (None, 512)               0         \n",
            "                                                                 \n",
            " dense_11 (Dense)            (None, 5)                 2565      \n",
            "                                                                 \n",
            "=================================================================\n",
            "Total params: 9,440,773\n",
            "Trainable params: 9,439,365\n",
            "Non-trainable params: 1,408\n",
            "_________________________________________________________________\n",
            "None\n"
          ]
        }
      ]
    },
    {
      "cell_type": "code",
      "source": [
        "history_model3 = train_model(model)"
      ],
      "metadata": {
        "colab": {
          "base_uri": "https://localhost:8080/"
        },
        "id": "OkxQIskAilwO",
        "outputId": "fb7c4f9f-47ee-4478-96a7-142be43e8010"
      },
      "execution_count": 51,
      "outputs": [
        {
          "output_type": "stream",
          "name": "stderr",
          "text": [
            "WARNING:tensorflow:`period` argument is deprecated. Please use `save_freq` to specify the frequency in number of batches seen.\n"
          ]
        },
        {
          "output_type": "stream",
          "name": "stdout",
          "text": [
            "Source path =  /content/data/tmp/Project_data/train ; batch size = 32\n"
          ]
        },
        {
          "output_type": "stream",
          "name": "stderr",
          "text": [
            "/usr/local/lib/python3.7/dist-packages/ipykernel_launcher.py:29: UserWarning: `Model.fit_generator` is deprecated and will be removed in a future version. Please use `Model.fit`, which supports generators.\n"
          ]
        },
        {
          "output_type": "stream",
          "name": "stdout",
          "text": [
            "Epoch 1/20\n",
            "21/21 [==============================] - ETA: 0s - loss: 3.8905 - categorical_accuracy: 0.3741Source path =  /content/data/tmp/Project_data/val ; batch size = 32\n",
            "\n",
            "Epoch 1: val_loss improved from inf to 11.80298, saving model to model_init_2022-09-1216_47_25.040867/model-00001-3.89054-0.37406-11.80298-0.23000.h5\n",
            "21/21 [==============================] - 42s 2s/step - loss: 3.8905 - categorical_accuracy: 0.3741 - val_loss: 11.8030 - val_categorical_accuracy: 0.2300 - lr: 0.0020\n",
            "Epoch 2/20\n",
            "21/21 [==============================] - ETA: 0s - loss: 1.5631 - categorical_accuracy: 0.5158\n",
            "Epoch 2: val_loss improved from 11.80298 to 10.36067, saving model to model_init_2022-09-1216_47_25.040867/model-00002-1.56308-0.51584-10.36067-0.21000.h5\n",
            "21/21 [==============================] - 41s 2s/step - loss: 1.5631 - categorical_accuracy: 0.5158 - val_loss: 10.3607 - val_categorical_accuracy: 0.2100 - lr: 0.0020\n",
            "Epoch 3/20\n",
            "21/21 [==============================] - ETA: 0s - loss: 1.2929 - categorical_accuracy: 0.5535\n",
            "Epoch 3: val_loss improved from 10.36067 to 8.31527, saving model to model_init_2022-09-1216_47_25.040867/model-00003-1.29286-0.55354-8.31527-0.20000.h5\n",
            "21/21 [==============================] - 41s 2s/step - loss: 1.2929 - categorical_accuracy: 0.5535 - val_loss: 8.3153 - val_categorical_accuracy: 0.2000 - lr: 0.0020\n",
            "Epoch 4/20\n",
            "21/21 [==============================] - ETA: 0s - loss: 1.0734 - categorical_accuracy: 0.6214\n",
            "Epoch 4: val_loss improved from 8.31527 to 3.76752, saving model to model_init_2022-09-1216_47_25.040867/model-00004-1.07343-0.62142-3.76752-0.31000.h5\n",
            "21/21 [==============================] - 40s 2s/step - loss: 1.0734 - categorical_accuracy: 0.6214 - val_loss: 3.7675 - val_categorical_accuracy: 0.3100 - lr: 0.0020\n",
            "Epoch 5/20\n",
            "21/21 [==============================] - ETA: 0s - loss: 1.0182 - categorical_accuracy: 0.6456\n",
            "Epoch 5: val_loss did not improve from 3.76752\n",
            "21/21 [==============================] - 41s 2s/step - loss: 1.0182 - categorical_accuracy: 0.6456 - val_loss: 4.1675 - val_categorical_accuracy: 0.2500 - lr: 0.0020\n",
            "Epoch 6/20\n",
            "21/21 [==============================] - ETA: 0s - loss: 0.8851 - categorical_accuracy: 0.6757\n",
            "Epoch 6: val_loss improved from 3.76752 to 2.21273, saving model to model_init_2022-09-1216_47_25.040867/model-00006-0.88513-0.67572-2.21273-0.42000.h5\n",
            "21/21 [==============================] - 40s 2s/step - loss: 0.8851 - categorical_accuracy: 0.6757 - val_loss: 2.2127 - val_categorical_accuracy: 0.4200 - lr: 0.0020\n",
            "Epoch 7/20\n",
            "21/21 [==============================] - ETA: 0s - loss: 0.8984 - categorical_accuracy: 0.6863\n",
            "Epoch 7: val_loss improved from 2.21273 to 1.96427, saving model to model_init_2022-09-1216_47_25.040867/model-00007-0.89842-0.68627-1.96427-0.48000.h5\n",
            "21/21 [==============================] - 41s 2s/step - loss: 0.8984 - categorical_accuracy: 0.6863 - val_loss: 1.9643 - val_categorical_accuracy: 0.4800 - lr: 0.0020\n",
            "Epoch 8/20\n",
            "21/21 [==============================] - ETA: 0s - loss: 0.7263 - categorical_accuracy: 0.7406\n",
            "Epoch 8: val_loss improved from 1.96427 to 0.99480, saving model to model_init_2022-09-1216_47_25.040867/model-00008-0.72630-0.74057-0.99480-0.67000.h5\n",
            "21/21 [==============================] - 41s 2s/step - loss: 0.7263 - categorical_accuracy: 0.7406 - val_loss: 0.9948 - val_categorical_accuracy: 0.6700 - lr: 0.0020\n",
            "Epoch 9/20\n",
            "21/21 [==============================] - ETA: 0s - loss: 0.7257 - categorical_accuracy: 0.7360\n",
            "Epoch 9: val_loss did not improve from 0.99480\n",
            "21/21 [==============================] - 40s 2s/step - loss: 0.7257 - categorical_accuracy: 0.7360 - val_loss: 1.3003 - val_categorical_accuracy: 0.6200 - lr: 0.0020\n",
            "Epoch 10/20\n",
            "21/21 [==============================] - ETA: 0s - loss: 0.5866 - categorical_accuracy: 0.7783\n",
            "Epoch 10: val_loss improved from 0.99480 to 0.84885, saving model to model_init_2022-09-1216_47_25.040867/model-00010-0.58659-0.77828-0.84885-0.74000.h5\n",
            "21/21 [==============================] - 43s 2s/step - loss: 0.5866 - categorical_accuracy: 0.7783 - val_loss: 0.8488 - val_categorical_accuracy: 0.7400 - lr: 0.0020\n",
            "Epoch 11/20\n",
            "21/21 [==============================] - ETA: 0s - loss: 0.6059 - categorical_accuracy: 0.7738\n",
            "Epoch 11: val_loss improved from 0.84885 to 0.76652, saving model to model_init_2022-09-1216_47_25.040867/model-00011-0.60586-0.77376-0.76652-0.79000.h5\n",
            "21/21 [==============================] - 40s 2s/step - loss: 0.6059 - categorical_accuracy: 0.7738 - val_loss: 0.7665 - val_categorical_accuracy: 0.7900 - lr: 0.0020\n",
            "Epoch 12/20\n",
            "21/21 [==============================] - ETA: 0s - loss: 0.5369 - categorical_accuracy: 0.8084\n",
            "Epoch 12: val_loss improved from 0.76652 to 0.75283, saving model to model_init_2022-09-1216_47_25.040867/model-00012-0.53686-0.80845-0.75283-0.71000.h5\n",
            "21/21 [==============================] - 39s 2s/step - loss: 0.5369 - categorical_accuracy: 0.8084 - val_loss: 0.7528 - val_categorical_accuracy: 0.7100 - lr: 0.0020\n",
            "Epoch 13/20\n",
            "21/21 [==============================] - ETA: 0s - loss: 0.5422 - categorical_accuracy: 0.7934\n",
            "Epoch 13: val_loss improved from 0.75283 to 0.68200, saving model to model_init_2022-09-1216_47_25.040867/model-00013-0.54216-0.79336-0.68200-0.75000.h5\n",
            "21/21 [==============================] - 42s 2s/step - loss: 0.5422 - categorical_accuracy: 0.7934 - val_loss: 0.6820 - val_categorical_accuracy: 0.7500 - lr: 0.0020\n",
            "Epoch 14/20\n",
            "21/21 [==============================] - ETA: 0s - loss: 0.4806 - categorical_accuracy: 0.8100\n",
            "Epoch 14: val_loss did not improve from 0.68200\n",
            "21/21 [==============================] - 41s 2s/step - loss: 0.4806 - categorical_accuracy: 0.8100 - val_loss: 0.8269 - val_categorical_accuracy: 0.6800 - lr: 0.0020\n",
            "Epoch 15/20\n",
            "21/21 [==============================] - ETA: 0s - loss: 0.4526 - categorical_accuracy: 0.8296\n",
            "Epoch 15: val_loss improved from 0.68200 to 0.63916, saving model to model_init_2022-09-1216_47_25.040867/model-00015-0.45262-0.82956-0.63916-0.78000.h5\n",
            "21/21 [==============================] - 40s 2s/step - loss: 0.4526 - categorical_accuracy: 0.8296 - val_loss: 0.6392 - val_categorical_accuracy: 0.7800 - lr: 0.0020\n",
            "Epoch 16/20\n",
            "21/21 [==============================] - ETA: 0s - loss: 0.4189 - categorical_accuracy: 0.8281\n",
            "Epoch 16: val_loss did not improve from 0.63916\n",
            "21/21 [==============================] - 39s 2s/step - loss: 0.4189 - categorical_accuracy: 0.8281 - val_loss: 0.6852 - val_categorical_accuracy: 0.7400 - lr: 0.0020\n",
            "Epoch 17/20\n",
            "21/21 [==============================] - ETA: 0s - loss: 0.3297 - categorical_accuracy: 0.8778\n",
            "Epoch 17: val_loss did not improve from 0.63916\n",
            "21/21 [==============================] - 40s 2s/step - loss: 0.3297 - categorical_accuracy: 0.8778 - val_loss: 0.8066 - val_categorical_accuracy: 0.7000 - lr: 0.0020\n",
            "Epoch 18/20\n",
            "21/21 [==============================] - ETA: 0s - loss: 0.3633 - categorical_accuracy: 0.8612\n",
            "Epoch 18: val_loss did not improve from 0.63916\n",
            "21/21 [==============================] - 41s 2s/step - loss: 0.3633 - categorical_accuracy: 0.8612 - val_loss: 0.7088 - val_categorical_accuracy: 0.8000 - lr: 0.0020\n",
            "Epoch 19/20\n",
            "21/21 [==============================] - ETA: 0s - loss: 0.2972 - categorical_accuracy: 0.8763\n",
            "Epoch 19: val_loss did not improve from 0.63916\n",
            "\n",
            "Epoch 19: ReduceLROnPlateau reducing learning rate to 0.0004000000189989805.\n",
            "21/21 [==============================] - 41s 2s/step - loss: 0.2972 - categorical_accuracy: 0.8763 - val_loss: 0.9083 - val_categorical_accuracy: 0.7200 - lr: 0.0020\n",
            "Epoch 20/20\n",
            "21/21 [==============================] - ETA: 0s - loss: 0.2470 - categorical_accuracy: 0.9020\n",
            "Epoch 20: val_loss did not improve from 0.63916\n",
            "21/21 [==============================] - 39s 2s/step - loss: 0.2470 - categorical_accuracy: 0.9020 - val_loss: 0.7335 - val_categorical_accuracy: 0.7800 - lr: 4.0000e-04\n"
          ]
        }
      ]
    },
    {
      "cell_type": "code",
      "source": [
        "plot(history_model3)"
      ],
      "metadata": {
        "colab": {
          "base_uri": "https://localhost:8080/",
          "height": 265
        },
        "id": "RmdnlKI-iocB",
        "outputId": "ce21fd04-ff43-4346-ecfc-c7334eb7fef4"
      },
      "execution_count": 52,
      "outputs": [
        {
          "output_type": "display_data",
          "data": {
            "text/plain": [
              "<Figure size 1080x288 with 2 Axes>"
            ],
            "image/png": "[encoded data removed]"
          },
          "metadata": {
            "needs_background": "light"
          }
        }
      ]
    },
    {
      "cell_type": "code",
      "source": [
        "def define_model4(filtersize=(3,3,3),dense_neurons=64,dropout=0.25):\n",
        "\n",
        "  model = Sequential()\n",
        "  model.add(Conv3D(64, filtersize, strides=(1,1,1), padding='same', input_shape=(18,84,84,3)))\n",
        "  model.add(BatchNormalization())\n",
        "  model.add(Activation('elu'))\n",
        "  model.add(MaxPooling3D(pool_size=(2,2,1), strides=(2,2,1)))\n",
        "\n",
        "  model.add(Conv3D(128, filtersize, strides=(1,1,1), padding='same'))\n",
        "  model.add(BatchNormalization())\n",
        "  model.add(Activation('elu'))\n",
        "  model.add(MaxPooling3D(pool_size=(2,2,2), strides=(2,2,2)))\n",
        "\n",
        "  # model.add(Dropout(0.25))\n",
        "\n",
        "  model.add(Conv3D(256, filtersize, strides=(1,1,1), padding='same'))\n",
        "  model.add(BatchNormalization())\n",
        "  model.add(Activation('elu'))\n",
        "  model.add(MaxPooling3D(pool_size=(2,2,2), strides=(2,2,2)))\n",
        "\n",
        "  # model.add(Dropout(0.25))\n",
        "\n",
        "  model.add(Conv3D(256, filtersize, strides=(1,1,1), padding='same'))\n",
        "  model.add(BatchNormalization())\n",
        "  model.add(Activation('elu'))\n",
        "  model.add(MaxPooling3D(pool_size=(2,2,2), strides=(2,2,2)))\n",
        "\n",
        "  model.add(Flatten())\n",
        "  model.add(Dropout(0.5))\n",
        "  model.add(Dense(512, activation='elu'))\n",
        "  model.add(Dropout(0.5))\n",
        "  model.add(Dense(5, activation='softmax'))\n",
        "  return model"
      ],
      "metadata": {
        "id": "vYf5Av7Ni4YI"
      },
      "execution_count": 53,
      "outputs": []
    },
    {
      "cell_type": "code",
      "source": [
        "batch_size = 32\n",
        "num_epochs = 30"
      ],
      "metadata": {
        "id": "czrIJ587i6Es"
      },
      "execution_count": 54,
      "outputs": []
    },
    {
      "cell_type": "code",
      "source": [
        "model = define_model4()\n",
        "optimiser = optimizers.SGD(lr=0.002, decay=1e-6, momentum=0.7, nesterov=True)\n",
        "model.compile(optimizer=optimiser, loss='categorical_crossentropy', metrics=['categorical_accuracy'])\n",
        "print (model.summary())"
      ],
      "metadata": {
        "colab": {
          "base_uri": "https://localhost:8080/"
        },
        "id": "5FxR7Qpvi7tl",
        "outputId": "559ead68-5c48-4891-ec0a-06e6da067a0c"
      },
      "execution_count": 55,
      "outputs": [
        {
          "output_type": "stream",
          "name": "stdout",
          "text": [
            "Model: \"sequential_6\"\n",
            "_________________________________________________________________\n",
            " Layer (type)                Output Shape              Param #   \n",
            "=================================================================\n",
            " conv3d_24 (Conv3D)          (None, 18, 84, 84, 64)    5248      \n",
            "                                                                 \n",
            " batch_normalization_24 (Bat  (None, 18, 84, 84, 64)   256       \n",
            " chNormalization)                                                \n",
            "                                                                 \n",
            " activation_24 (Activation)  (None, 18, 84, 84, 64)    0         \n",
            "                                                                 \n",
            " max_pooling3d_24 (MaxPoolin  (None, 9, 42, 84, 64)    0         \n",
            " g3D)                                                            \n",
            "                                                                 \n",
            " conv3d_25 (Conv3D)          (None, 9, 42, 84, 128)    221312    \n",
            "                                                                 \n",
            " batch_normalization_25 (Bat  (None, 9, 42, 84, 128)   512       \n",
            " chNormalization)                                                \n",
            "                                                                 \n",
            " activation_25 (Activation)  (None, 9, 42, 84, 128)    0         \n",
            "                                                                 \n",
            " max_pooling3d_25 (MaxPoolin  (None, 4, 21, 42, 128)   0         \n",
            " g3D)                                                            \n",
            "                                                                 \n",
            " conv3d_26 (Conv3D)          (None, 4, 21, 42, 256)    884992    \n",
            "                                                                 \n",
            " batch_normalization_26 (Bat  (None, 4, 21, 42, 256)   1024      \n",
            " chNormalization)                                                \n",
            "                                                                 \n",
            " activation_26 (Activation)  (None, 4, 21, 42, 256)    0         \n",
            "                                                                 \n",
            " max_pooling3d_26 (MaxPoolin  (None, 2, 10, 21, 256)   0         \n",
            " g3D)                                                            \n",
            "                                                                 \n",
            " conv3d_27 (Conv3D)          (None, 2, 10, 21, 256)    1769728   \n",
            "                                                                 \n",
            " batch_normalization_27 (Bat  (None, 2, 10, 21, 256)   1024      \n",
            " chNormalization)                                                \n",
            "                                                                 \n",
            " activation_27 (Activation)  (None, 2, 10, 21, 256)    0         \n",
            "                                                                 \n",
            " max_pooling3d_27 (MaxPoolin  (None, 1, 5, 10, 256)    0         \n",
            " g3D)                                                            \n",
            "                                                                 \n",
            " flatten_6 (Flatten)         (None, 12800)             0         \n",
            "                                                                 \n",
            " dropout_14 (Dropout)        (None, 12800)             0         \n",
            "                                                                 \n",
            " dense_12 (Dense)            (None, 512)               6554112   \n",
            "                                                                 \n",
            " dropout_15 (Dropout)        (None, 512)               0         \n",
            "                                                                 \n",
            " dense_13 (Dense)            (None, 5)                 2565      \n",
            "                                                                 \n",
            "=================================================================\n",
            "Total params: 9,440,773\n",
            "Trainable params: 9,439,365\n",
            "Non-trainable params: 1,408\n",
            "_________________________________________________________________\n",
            "None\n"
          ]
        }
      ]
    },
    {
      "cell_type": "code",
      "source": [
        "history_model4 = train_model(model)"
      ],
      "metadata": {
        "colab": {
          "base_uri": "https://localhost:8080/"
        },
        "id": "zpZU0kWTi-ek",
        "outputId": "c07db2e1-9167-4373-c53b-b183a13df855"
      },
      "execution_count": 56,
      "outputs": [
        {
          "output_type": "stream",
          "name": "stderr",
          "text": [
            "WARNING:tensorflow:`period` argument is deprecated. Please use `save_freq` to specify the frequency in number of batches seen.\n"
          ]
        },
        {
          "output_type": "stream",
          "name": "stdout",
          "text": [
            "Source path =  /content/data/tmp/Project_data/train ; batch size = 32\n"
          ]
        },
        {
          "output_type": "stream",
          "name": "stderr",
          "text": [
            "/usr/local/lib/python3.7/dist-packages/ipykernel_launcher.py:29: UserWarning: `Model.fit_generator` is deprecated and will be removed in a future version. Please use `Model.fit`, which supports generators.\n"
          ]
        },
        {
          "output_type": "stream",
          "name": "stdout",
          "text": [
            "Epoch 1/30\n",
            "21/21 [==============================] - ETA: 0s - loss: 4.1505 - categorical_accuracy: 0.3710Source path =  /content/data/tmp/Project_data/val ; batch size = 32\n",
            "\n",
            "Epoch 1: val_loss improved from inf to 14.19664, saving model to model_init_2022-09-1217_00_58.937392/model-00001-4.15053-0.37104-14.19664-0.22000.h5\n",
            "21/21 [==============================] - 41s 2s/step - loss: 4.1505 - categorical_accuracy: 0.3710 - val_loss: 14.1966 - val_categorical_accuracy: 0.2200 - lr: 0.0020\n",
            "Epoch 2/30\n",
            "21/21 [==============================] - ETA: 0s - loss: 1.6576 - categorical_accuracy: 0.4827\n",
            "Epoch 2: val_loss improved from 14.19664 to 7.78779, saving model to model_init_2022-09-1217_00_58.937392/model-00002-1.65762-0.48265-7.78779-0.25000.h5\n",
            "21/21 [==============================] - 41s 2s/step - loss: 1.6576 - categorical_accuracy: 0.4827 - val_loss: 7.7878 - val_categorical_accuracy: 0.2500 - lr: 0.0020\n",
            "Epoch 3/30\n",
            "21/21 [==============================] - ETA: 0s - loss: 1.2651 - categorical_accuracy: 0.5777\n",
            "Epoch 3: val_loss improved from 7.78779 to 5.44216, saving model to model_init_2022-09-1217_00_58.937392/model-00003-1.26512-0.57768-5.44216-0.21000.h5\n",
            "21/21 [==============================] - 42s 2s/step - loss: 1.2651 - categorical_accuracy: 0.5777 - val_loss: 5.4422 - val_categorical_accuracy: 0.2100 - lr: 0.0020\n",
            "Epoch 4/30\n",
            "21/21 [==============================] - ETA: 0s - loss: 1.1816 - categorical_accuracy: 0.5928\n",
            "Epoch 4: val_loss improved from 5.44216 to 5.12015, saving model to model_init_2022-09-1217_00_58.937392/model-00004-1.18162-0.59276-5.12015-0.27000.h5\n",
            "21/21 [==============================] - 43s 2s/step - loss: 1.1816 - categorical_accuracy: 0.5928 - val_loss: 5.1202 - val_categorical_accuracy: 0.2700 - lr: 0.0020\n",
            "Epoch 5/30\n",
            "21/21 [==============================] - ETA: 0s - loss: 0.9994 - categorical_accuracy: 0.6395\n",
            "Epoch 5: val_loss improved from 5.12015 to 2.47834, saving model to model_init_2022-09-1217_00_58.937392/model-00005-0.99939-0.63952-2.47834-0.42000.h5\n",
            "21/21 [==============================] - 40s 2s/step - loss: 0.9994 - categorical_accuracy: 0.6395 - val_loss: 2.4783 - val_categorical_accuracy: 0.4200 - lr: 0.0020\n",
            "Epoch 6/30\n",
            "21/21 [==============================] - ETA: 0s - loss: 0.9215 - categorical_accuracy: 0.6652\n",
            "Epoch 6: val_loss improved from 2.47834 to 2.31884, saving model to model_init_2022-09-1217_00_58.937392/model-00006-0.92147-0.66516-2.31884-0.38000.h5\n",
            "21/21 [==============================] - 40s 2s/step - loss: 0.9215 - categorical_accuracy: 0.6652 - val_loss: 2.3188 - val_categorical_accuracy: 0.3800 - lr: 0.0020\n",
            "Epoch 7/30\n",
            "21/21 [==============================] - ETA: 0s - loss: 0.9151 - categorical_accuracy: 0.6908\n",
            "Epoch 7: val_loss improved from 2.31884 to 1.73801, saving model to model_init_2022-09-1217_00_58.937392/model-00007-0.91509-0.69080-1.73801-0.46000.h5\n",
            "21/21 [==============================] - 40s 2s/step - loss: 0.9151 - categorical_accuracy: 0.6908 - val_loss: 1.7380 - val_categorical_accuracy: 0.4600 - lr: 0.0020\n",
            "Epoch 8/30\n",
            "21/21 [==============================] - ETA: 0s - loss: 0.7829 - categorical_accuracy: 0.7315\n",
            "Epoch 8: val_loss improved from 1.73801 to 1.41703, saving model to model_init_2022-09-1217_00_58.937392/model-00008-0.78288-0.73152-1.41703-0.55000.h5\n",
            "21/21 [==============================] - 44s 2s/step - loss: 0.7829 - categorical_accuracy: 0.7315 - val_loss: 1.4170 - val_categorical_accuracy: 0.5500 - lr: 0.0020\n",
            "Epoch 9/30\n",
            "21/21 [==============================] - ETA: 0s - loss: 0.7083 - categorical_accuracy: 0.7481\n",
            "Epoch 9: val_loss improved from 1.41703 to 1.25721, saving model to model_init_2022-09-1217_00_58.937392/model-00009-0.70827-0.74811-1.25721-0.55000.h5\n",
            "21/21 [==============================] - 40s 2s/step - loss: 0.7083 - categorical_accuracy: 0.7481 - val_loss: 1.2572 - val_categorical_accuracy: 0.5500 - lr: 0.0020\n",
            "Epoch 10/30\n",
            "21/21 [==============================] - ETA: 0s - loss: 0.6687 - categorical_accuracy: 0.7436\n",
            "Epoch 10: val_loss did not improve from 1.25721\n",
            "21/21 [==============================] - 40s 2s/step - loss: 0.6687 - categorical_accuracy: 0.7436 - val_loss: 1.4485 - val_categorical_accuracy: 0.5500 - lr: 0.0020\n",
            "Epoch 11/30\n",
            "21/21 [==============================] - ETA: 0s - loss: 0.6812 - categorical_accuracy: 0.7617\n",
            "Epoch 11: val_loss improved from 1.25721 to 0.65149, saving model to model_init_2022-09-1217_00_58.937392/model-00011-0.68123-0.76169-0.65149-0.79000.h5\n",
            "21/21 [==============================] - 39s 2s/step - loss: 0.6812 - categorical_accuracy: 0.7617 - val_loss: 0.6515 - val_categorical_accuracy: 0.7900 - lr: 0.0020\n",
            "Epoch 12/30\n",
            "21/21 [==============================] - ETA: 0s - loss: 0.5486 - categorical_accuracy: 0.7828\n",
            "Epoch 12: val_loss did not improve from 0.65149\n",
            "21/21 [==============================] - 40s 2s/step - loss: 0.5486 - categorical_accuracy: 0.7828 - val_loss: 0.7622 - val_categorical_accuracy: 0.7100 - lr: 0.0020\n",
            "Epoch 13/30\n",
            "21/21 [==============================] - ETA: 0s - loss: 0.5023 - categorical_accuracy: 0.7964\n",
            "Epoch 13: val_loss did not improve from 0.65149\n",
            "21/21 [==============================] - 40s 2s/step - loss: 0.5023 - categorical_accuracy: 0.7964 - val_loss: 0.8157 - val_categorical_accuracy: 0.7200 - lr: 0.0020\n",
            "Epoch 14/30\n",
            "21/21 [==============================] - ETA: 0s - loss: 0.4994 - categorical_accuracy: 0.8009\n",
            "Epoch 14: val_loss did not improve from 0.65149\n",
            "21/21 [==============================] - 40s 2s/step - loss: 0.4994 - categorical_accuracy: 0.8009 - val_loss: 0.8009 - val_categorical_accuracy: 0.7800 - lr: 0.0020\n",
            "Epoch 15/30\n",
            "21/21 [==============================] - ETA: 0s - loss: 0.4658 - categorical_accuracy: 0.8175\n",
            "Epoch 15: val_loss did not improve from 0.65149\n",
            "\n",
            "Epoch 15: ReduceLROnPlateau reducing learning rate to 0.0004000000189989805.\n",
            "21/21 [==============================] - 40s 2s/step - loss: 0.4658 - categorical_accuracy: 0.8175 - val_loss: 0.6941 - val_categorical_accuracy: 0.7700 - lr: 0.0020\n",
            "Epoch 16/30\n",
            "21/21 [==============================] - ETA: 0s - loss: 0.3893 - categorical_accuracy: 0.8552\n",
            "Epoch 16: val_loss did not improve from 0.65149\n",
            "21/21 [==============================] - 39s 2s/step - loss: 0.3893 - categorical_accuracy: 0.8552 - val_loss: 0.6961 - val_categorical_accuracy: 0.7700 - lr: 4.0000e-04\n",
            "Epoch 17/30\n",
            "21/21 [==============================] - ETA: 0s - loss: 0.3572 - categorical_accuracy: 0.8567\n",
            "Epoch 17: val_loss improved from 0.65149 to 0.64186, saving model to model_init_2022-09-1217_00_58.937392/model-00017-0.35716-0.85671-0.64186-0.79000.h5\n",
            "21/21 [==============================] - 41s 2s/step - loss: 0.3572 - categorical_accuracy: 0.8567 - val_loss: 0.6419 - val_categorical_accuracy: 0.7900 - lr: 4.0000e-04\n",
            "Epoch 18/30\n",
            "21/21 [==============================] - ETA: 0s - loss: 0.3470 - categorical_accuracy: 0.8748\n",
            "Epoch 18: val_loss improved from 0.64186 to 0.61390, saving model to model_init_2022-09-1217_00_58.937392/model-00018-0.34701-0.87481-0.61390-0.79000.h5\n",
            "21/21 [==============================] - 40s 2s/step - loss: 0.3470 - categorical_accuracy: 0.8748 - val_loss: 0.6139 - val_categorical_accuracy: 0.7900 - lr: 4.0000e-04\n",
            "Epoch 19/30\n",
            "21/21 [==============================] - ETA: 0s - loss: 0.3067 - categorical_accuracy: 0.8808\n",
            "Epoch 19: val_loss did not improve from 0.61390\n",
            "21/21 [==============================] - 41s 2s/step - loss: 0.3067 - categorical_accuracy: 0.8808 - val_loss: 0.6848 - val_categorical_accuracy: 0.8100 - lr: 4.0000e-04\n",
            "Epoch 20/30\n",
            "21/21 [==============================] - ETA: 0s - loss: 0.3094 - categorical_accuracy: 0.8612\n",
            "Epoch 20: val_loss did not improve from 0.61390\n",
            "21/21 [==============================] - 39s 2s/step - loss: 0.3094 - categorical_accuracy: 0.8612 - val_loss: 0.6376 - val_categorical_accuracy: 0.8100 - lr: 4.0000e-04\n",
            "Epoch 21/30\n",
            "21/21 [==============================] - ETA: 0s - loss: 0.3379 - categorical_accuracy: 0.8778\n",
            "Epoch 21: val_loss did not improve from 0.61390\n",
            "21/21 [==============================] - 40s 2s/step - loss: 0.3379 - categorical_accuracy: 0.8778 - val_loss: 0.6554 - val_categorical_accuracy: 0.7800 - lr: 4.0000e-04\n",
            "Epoch 22/30\n",
            "21/21 [==============================] - ETA: 0s - loss: 0.2725 - categorical_accuracy: 0.9005\n",
            "Epoch 22: val_loss improved from 0.61390 to 0.56016, saving model to model_init_2022-09-1217_00_58.937392/model-00022-0.27250-0.90045-0.56016-0.81000.h5\n",
            "21/21 [==============================] - 41s 2s/step - loss: 0.2725 - categorical_accuracy: 0.9005 - val_loss: 0.5602 - val_categorical_accuracy: 0.8100 - lr: 4.0000e-04\n",
            "Epoch 23/30\n",
            "21/21 [==============================] - ETA: 0s - loss: 0.3300 - categorical_accuracy: 0.8658\n",
            "Epoch 23: val_loss did not improve from 0.56016\n",
            "21/21 [==============================] - 40s 2s/step - loss: 0.3300 - categorical_accuracy: 0.8658 - val_loss: 0.6060 - val_categorical_accuracy: 0.7800 - lr: 4.0000e-04\n",
            "Epoch 24/30\n",
            "21/21 [==============================] - ETA: 0s - loss: 0.2596 - categorical_accuracy: 0.9050\n",
            "Epoch 24: val_loss did not improve from 0.56016\n",
            "21/21 [==============================] - 39s 2s/step - loss: 0.2596 - categorical_accuracy: 0.9050 - val_loss: 0.6468 - val_categorical_accuracy: 0.8000 - lr: 4.0000e-04\n",
            "Epoch 25/30\n",
            "21/21 [==============================] - ETA: 0s - loss: 0.2740 - categorical_accuracy: 0.8944\n",
            "Epoch 25: val_loss did not improve from 0.56016\n",
            "21/21 [==============================] - 41s 2s/step - loss: 0.2740 - categorical_accuracy: 0.8944 - val_loss: 0.6500 - val_categorical_accuracy: 0.7900 - lr: 4.0000e-04\n",
            "Epoch 26/30\n",
            "21/21 [==============================] - ETA: 0s - loss: 0.2517 - categorical_accuracy: 0.9020\n",
            "Epoch 26: val_loss did not improve from 0.56016\n",
            "\n",
            "Epoch 26: ReduceLROnPlateau reducing learning rate to 8.000000379979611e-05.\n",
            "21/21 [==============================] - 40s 2s/step - loss: 0.2517 - categorical_accuracy: 0.9020 - val_loss: 0.7059 - val_categorical_accuracy: 0.7700 - lr: 4.0000e-04\n",
            "Epoch 27/30\n",
            "21/21 [==============================] - ETA: 0s - loss: 0.2858 - categorical_accuracy: 0.9020\n",
            "Epoch 27: val_loss did not improve from 0.56016\n",
            "21/21 [==============================] - 41s 2s/step - loss: 0.2858 - categorical_accuracy: 0.9020 - val_loss: 0.6697 - val_categorical_accuracy: 0.7800 - lr: 8.0000e-05\n",
            "Epoch 28/30\n",
            "21/21 [==============================] - ETA: 0s - loss: 0.2677 - categorical_accuracy: 0.8974\n",
            "Epoch 28: val_loss did not improve from 0.56016\n",
            "21/21 [==============================] - 39s 2s/step - loss: 0.2677 - categorical_accuracy: 0.8974 - val_loss: 0.6626 - val_categorical_accuracy: 0.7900 - lr: 8.0000e-05\n",
            "Epoch 29/30\n",
            "21/21 [==============================] - ETA: 0s - loss: 0.2934 - categorical_accuracy: 0.8959\n",
            "Epoch 29: val_loss did not improve from 0.56016\n",
            "21/21 [==============================] - 40s 2s/step - loss: 0.2934 - categorical_accuracy: 0.8959 - val_loss: 0.6676 - val_categorical_accuracy: 0.7900 - lr: 8.0000e-05\n",
            "Epoch 30/30\n",
            "21/21 [==============================] - ETA: 0s - loss: 0.2364 - categorical_accuracy: 0.9110\n",
            "Epoch 30: val_loss did not improve from 0.56016\n",
            "\n",
            "Epoch 30: ReduceLROnPlateau reducing learning rate to 1.6000001050997525e-05.\n",
            "21/21 [==============================] - 41s 2s/step - loss: 0.2364 - categorical_accuracy: 0.9110 - val_loss: 0.7545 - val_categorical_accuracy: 0.7400 - lr: 8.0000e-05\n"
          ]
        }
      ]
    },
    {
      "cell_type": "code",
      "source": [
        "plot(history_model4)"
      ],
      "metadata": {
        "colab": {
          "base_uri": "https://localhost:8080/",
          "height": 265
        },
        "id": "O_LNawPvjCiy",
        "outputId": "ac4beddc-ab42-41b1-d46b-5737b798eaf4"
      },
      "execution_count": 57,
      "outputs": [
        {
          "output_type": "display_data",
          "data": {
            "text/plain": [
              "<Figure size 1080x288 with 2 Axes>"
            ],
            "image/png": "[encoded data removed]"
          },
          "metadata": {
            "needs_background": "light"
          }
        }
      ]
    }
  ],
  "metadata": {
    "accelerator": "GPU",
    "colab": {
      "collapsed_sections": [],
      "provenance": [],
      "include_colab_link": true
    },
    "kernelspec": {
      "display_name": "Python 3",
      "name": "python3"
    },
    "language_info": {
      "name": "python"
    },
    "gpuClass": "standard"
  },
  "nbformat": 4,
  "nbformat_minor": 0
}